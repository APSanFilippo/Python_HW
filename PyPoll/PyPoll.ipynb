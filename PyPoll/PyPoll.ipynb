{
 "cells": [
  {
   "attachments": {},
   "cell_type": "markdown",
   "metadata": {},
   "source": [
    "## PyPoll\n",
    "\n",
    "![Vote-Counting](Images/Vote_counting.png)\n",
    "\n",
    "* In this challenge, you are tasked with helping a small, rural town modernize its vote-counting process. (Up until now, Uncle Cleetus had been trustfully tallying them one-by-one, but unfortunately, his concentration isn't what it used to be.)\n",
    "\n",
    "* You will be give a set of poll data called [election_data.csv](PyPoll/Resources/election_data.csv). The dataset is composed of three columns: `Voter ID`, `County`, and `Candidate`. Your task is to create a Python script that analyzes the votes and calculates each of the following:\n",
    "\n",
    "  * The total number of votes cast\n",
    "\n",
    "  * A complete list of candidates who received votes\n",
    "\n",
    "  * The percentage of votes each candidate won\n",
    "\n",
    "  * The total number of votes each candidate won\n",
    "\n",
    "  * The winner of the election based on popular vote.\n",
    "\n",
    "* As an example, your analysis should look similar to the one below:\n",
    "\n",
    "  ```text\n",
    "  Election Results\n",
    "  -------------------------\n",
    "  Total Votes: 3521001\n",
    "  -------------------------\n",
    "  Khan: 63.000% (2218231)\n",
    "  Correy: 20.000% (704200)\n",
    "  Li: 14.000% (492940)\n",
    "  O'Tooley: 3.000% (105630)\n",
    "  -------------------------\n",
    "  Winner: Khan\n",
    "  -------------------------\n",
    "  ```\n",
    "\n",
    "* In addition, your final script should both print the analysis to the terminal and export a text file with the results.\n",
    "![image.png](attachment:image.png)"
   ]
  },
  {
   "cell_type": "code",
   "execution_count": 1,
   "metadata": {},
   "outputs": [],
   "source": [
    "import os\n",
    "import csv"
   ]
  },
  {
   "cell_type": "code",
   "execution_count": 2,
   "metadata": {},
   "outputs": [],
   "source": [
    "py_poll = os.path.join('Resources','election_data.csv')\n",
    "finished_2 = os.path.join(\"Resources\", \"Poll_Results.txt\")"
   ]
  },
  {
   "cell_type": "code",
   "execution_count": 3,
   "metadata": {},
   "outputs": [],
   "source": [
    "# define variables\n",
    "totalVotesCount = 0\n",
    "votes = []\n",
    "candidateCount = []\n",
    "uniqueCandidates = []\n"
   ]
  },
  {
   "cell_type": "code",
   "execution_count": 11,
   "metadata": {},
   "outputs": [],
   "source": [
    "with open(py_poll) as pollData:\n",
    "    reader = csv.reader(pollData, delimiter=',')\n",
    "    line = next(reader, None)\n",
    "    for line in reader:\n",
    "        \n",
    "        totalVotesCount += 1\n",
    "        \n",
    "        uniqueCandidate= line[2]\n",
    "        \n",
    "        if uniqueCandidate in uniqueCandidates:\n",
    "            candidate_index = uniqueCandidates.index(uniqueCandidate)\n",
    "            votes[candidate_index] = votes[candidate_index] + 1\n",
    "        \n",
    "        #else create new spot in list for candidate\n",
    "        else:\n",
    "            uniqueCandidates.append(uniqueCandidate)\n",
    "            votes.append(1)\n",
    "        \n",
    "percent = []\n",
    "max_votes = votes[0]\n",
    "max_index = 0  \n",
    "\n",
    "\n",
    " "
   ]
  },
  {
   "cell_type": "code",
   "execution_count": 13,
   "metadata": {},
   "outputs": [],
   "source": [
    "#calculate vote percent for each candidate\n",
    "for count in range(len(uniqueCandidates)):\n",
    "    vote_percentage = ((votes[count]/totalVotesCount)*100)\n",
    "    percent.append(vote_percentage)\n"
   ]
  },
  {
   "cell_type": "code",
   "execution_count": 6,
   "metadata": {},
   "outputs": [],
   "source": [
    "    \n",
    "    if votes[count] > max_votes:\n",
    "        max_votes = votes[count]\n",
    "        print(max_votes)\n",
    "        max_index = count\n",
    "winner = uniqueCandidates[max_index]"
   ]
  },
  {
   "cell_type": "code",
   "execution_count": 15,
   "metadata": {},
   "outputs": [
    {
     "name": "stdout",
     "output_type": "stream",
     "text": [
      "Election Results\n",
      "---------------------------\n",
      "Total Votes: 7042002\n",
      "---------------------------\n",
      "Khan: 63.000% (4436462)\n",
      "Correy: 19.000% (1408400)\n",
      "Li: 13.000% (985880)\n",
      "O'Tooley: 2.000% (211260)\n",
      "---------------------------\n",
      "Winner: Khan\n",
      "---------------------------\n"
     ]
    }
   ],
   "source": [
    "print(\"Election Results\")\n",
    "print(\"---------------------------\")\n",
    "print(f\"Total Votes: {totalVotesCount}\")\n",
    "print(\"---------------------------\")\n",
    "for count in range(len(uniqueCandidates)):\n",
    "    print(f\"{uniqueCandidates[count]}: {int(percent[count])}.000% ({votes[count]})\")\n",
    "print(\"---------------------------\")\n",
    "print(f\"Winner: {winner}\")\n",
    "print(\"---------------------------\")\n"
   ]
  },
  {
   "cell_type": "code",
   "execution_count": 21,
   "metadata": {},
   "outputs": [],
   "source": [
    "\n",
    "    # create text file\n",
    "    with open(finished_2, \"w\") as txtfile:\n",
    "        txtfile.write(\"Election Results\"+ \"\\n\")\n",
    "        txtfile.write(\"---------------------------\" + \"\\n\")\n",
    "        txtfile.write(f\"Total Votes: {totalVotesCount}\" + \"\\n\")\n",
    "        txtfile.write(\"---------------------------\" + \"\\n\")\n",
    "        for count in range(len(uniqueCandidates)):\n",
    "            txtfile.write(f\"{uniqueCandidates[count]}: {int(percent[count])}.000% ({votes[count]})\"+ \"\\n\")\n",
    "        txtfile.write(\"---------------------------\"+ \"\\n\")\n",
    "        txtfile.write(f\"Winner: {winner}\"+ \"\\n\")\n",
    "        txtfile.write(\"---------------------------\"+ \"\\n\")\n",
    "\n",
    "\n"
   ]
  }
 ],
 "metadata": {
  "kernelspec": {
   "display_name": "Python 3",
   "language": "python",
   "name": "python3"
  },
  "language_info": {
   "codemirror_mode": {
    "name": "ipython",
    "version": 3
   },
   "file_extension": ".py",
   "mimetype": "text/x-python",
   "name": "python",
   "nbconvert_exporter": "python",
   "pygments_lexer": "ipython3",
   "version": "3.7.4"
  }
 },
 "nbformat": 4,
 "nbformat_minor": 2
}
