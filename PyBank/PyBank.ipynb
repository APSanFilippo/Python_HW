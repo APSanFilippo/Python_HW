{
 "cells": [
  {
   "cell_type": "markdown",
   "metadata": {},
   "source": [
    "# * As an example, your analysis should look similar to the one below:\n",
    "\n",
    "  ```text\n",
    "  Financial Analysis\n",
    "  ----------------------------\n",
    "  Total Months: 86\n",
    "  Total: $38382578\n",
    "  Average  Change: $-2315.12\n",
    "  Greatest Increase in Profits: Feb-2012 ($1926159)\n",
    "  Greatest Decrease in Profits: Sep-2013 ($-2196167)"
   ]
  },
  {
   "cell_type": "code",
   "execution_count": 1,
   "metadata": {},
   "outputs": [],
   "source": [
    "#Dependencies\n",
    "import csv\n",
    "import os"
   ]
  },
  {
   "cell_type": "code",
   "execution_count": 2,
   "metadata": {},
   "outputs": [],
   "source": [
    "cvspath = os.path.join(\"Resources\", \"budget_data.csv\")\n",
    "finished = os.path.join(\"Resources\", \"budget_Results.txt\")\n",
    "\n",
    "\n",
    "\n",
    "#total month needs to be set to 0 so I can count \n",
    "totalMonth = 0\n",
    "month_of_Change = []\n",
    "\n",
    "totalProfit = 0\n",
    "previousProfit = 0\n",
    "\n",
    "month_Profit = 0\n",
    "\n",
    "profit_Change = 0\n",
    "profit_Change_list = []\n",
    "\n",
    "greatestIncrease = [\"\", 0]\n",
    "greatestDecrease = [\"\", 99999999999]\n",
    "\n",
    "\n",
    "\n",
    "\n",
    "\n",
    "        \n",
    "\n",
    "\n",
    "\n",
    "\n",
    "\n"
   ]
  },
  {
   "cell_type": "code",
   "execution_count": 13,
   "metadata": {},
   "outputs": [],
   "source": [
    "#Read the csv\n",
    "with open(cvspath) as budgetData:\n",
    "    reader = csv.DictReader(budgetData)\n",
    "    \n",
    "    \n",
    "    for row in reader:\n",
    "        totalMonth = totalMonth + 1\n",
    "        \n",
    "        totalProfit = totalProfit + int(row[\"Profit/Losses\"])\n",
    "        \n",
    "        profit_Change = int(row[\"Profit/Losses\"]) - previousProfit\n",
    "        previousProfit = int(row[\"Profit/Losses\"])\n",
    "        \n",
    "        month_of_Change = month_of_Change + [row[\"Date\"]]\n",
    "        \n",
    "       \n",
    "\n",
    "        \n",
    "    #Greatest Increase value\n",
    "        if (profit_Change > greatestIncrease[1]):\n",
    "                greatestIncrease[1] = profit_Change\n",
    "                greatestIncrease[0] = row[\"Date\"]\n",
    "    \n",
    "    #Greatest Decrease value\n",
    "        if (profit_Change < greatestDecrease[1]):\n",
    "            greatestDecrease[0] = row[\"Date\"]\n",
    "            greatestDecrease[1] = profit_Change"
   ]
  },
  {
   "cell_type": "code",
   "execution_count": 16,
   "metadata": {},
   "outputs": [
    {
     "ename": "TypeError",
     "evalue": "'int' object is not iterable",
     "output_type": "error",
     "traceback": [
      "\u001b[0;31m---------------------------------------------------------------------------\u001b[0m",
      "\u001b[0;31mTypeError\u001b[0m                                 Traceback (most recent call last)",
      "\u001b[0;32m<ipython-input-16-e00493d1b205>\u001b[0m in \u001b[0;36m<module>\u001b[0;34m\u001b[0m\n\u001b[0;32m----> 1\u001b[0;31m \u001b[0maverage\u001b[0m \u001b[0;34m=\u001b[0m \u001b[0msum\u001b[0m\u001b[0;34m(\u001b[0m\u001b[0mprofit_Change\u001b[0m\u001b[0;34m)\u001b[0m\u001b[0;34m/\u001b[0m\u001b[0;36m85\u001b[0m\u001b[0;34m\u001b[0m\u001b[0;34m\u001b[0m\u001b[0m\n\u001b[0m\u001b[1;32m      2\u001b[0m \u001b[0maverage\u001b[0m \u001b[0;34m=\u001b[0m \u001b[0mround\u001b[0m\u001b[0;34m(\u001b[0m\u001b[0maverage\u001b[0m\u001b[0;34m,\u001b[0m\u001b[0;36m2\u001b[0m\u001b[0;34m)\u001b[0m\u001b[0;34m\u001b[0m\u001b[0;34m\u001b[0m\u001b[0m\n",
      "\u001b[0;31mTypeError\u001b[0m: 'int' object is not iterable"
     ]
    }
   ],
   "source": [
    "average = sum(profit_Change)/85\n",
    "average = round(average,2)"
   ]
  },
  {
   "cell_type": "code",
   "execution_count": 15,
   "metadata": {},
   "outputs": [
    {
     "name": "stdout",
     "output_type": "stream",
     "text": [
      "7895.28\n"
     ]
    }
   ],
   "source": [
    "print(average)"
   ]
  },
  {
   "cell_type": "code",
   "execution_count": 8,
   "metadata": {},
   "outputs": [],
   "source": [
    "#set the results\n",
    "output = (\n",
    "    f\"Financial Analysis\\n\"\n",
    "    f\"-------------------------------\\n\"\n",
    "    f\"Total Months: {totalMonth}\\n\"\n",
    "    f\"Total: ${totalProfit}\\n\"\n",
    "    f\"Average Change: ${average}\\n\"\n",
    "    f\"Greatest Increase in Profits: {greatestIncrease[0]} (${greatestIncrease[1]})\\n\"\n",
    "    f\"Greatest Decrease in Profits: {greatestDecrease[0]} (${(greatestDecrease[1])})\\n\"\n",
    ")"
   ]
  },
  {
   "cell_type": "code",
   "execution_count": 9,
   "metadata": {},
   "outputs": [
    {
     "name": "stdout",
     "output_type": "stream",
     "text": [
      "Financial Analysis\n",
      "-------------------------------\n",
      "Total Months: 86\n",
      "Total: $38382578\n",
      "Average Change: $7803.48\n",
      "Greatest Increase in Profits: Feb-2012 ($1926159)\n",
      "Greatest Decrease in Profits: Sep-2013 ($-2196167)\n",
      "\n"
     ]
    }
   ],
   "source": [
    "print(output)\n"
   ]
  },
  {
   "cell_type": "code",
   "execution_count": null,
   "metadata": {},
   "outputs": [],
   "source": [
    "#Write to the text path\n",
    "with open(finished, \"w\") as txt_file:\n",
    "    txt_file.write(output)"
   ]
  }
 ],
 "metadata": {
  "kernelspec": {
   "display_name": "Python 3",
   "language": "python",
   "name": "python3"
  },
  "language_info": {
   "codemirror_mode": {
    "name": "ipython",
    "version": 3
   },
   "file_extension": ".py",
   "mimetype": "text/x-python",
   "name": "python",
   "nbconvert_exporter": "python",
   "pygments_lexer": "ipython3",
   "version": "3.7.4"
  }
 },
 "nbformat": 4,
 "nbformat_minor": 2
}
